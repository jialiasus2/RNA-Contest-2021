{
 "cells": [
  {
   "cell_type": "code",
   "execution_count": 1,
   "metadata": {
    "collapsed": false
   },
   "outputs": [
    {
     "name": "stdout",
     "output_type": "stream",
     "text": [
      "Looking in indexes: https://mirror.baidu.com/pypi/simple/\n",
      "Requirement already satisfied: paddlehelix in /opt/conda/envs/python35-paddle120-env/lib/python3.7/site-packages (1.0.0)\n",
      "Requirement already satisfied: sklearn in /opt/conda/envs/python35-paddle120-env/lib/python3.7/site-packages (from paddlehelix) (0.0)\n",
      "Requirement already satisfied: pandas in /opt/conda/envs/python35-paddle120-env/lib/python3.7/site-packages (from paddlehelix) (1.1.5)\n",
      "Requirement already satisfied: networkx in /opt/conda/envs/python35-paddle120-env/lib/python3.7/site-packages (from paddlehelix) (2.4)\n",
      "Requirement already satisfied: numpy in /opt/conda/envs/python35-paddle120-env/lib/python3.7/site-packages (from paddlehelix) (1.16.4)\n",
      "Requirement already satisfied: decorator>=4.3.0 in /opt/conda/envs/python35-paddle120-env/lib/python3.7/site-packages (from networkx->paddlehelix) (4.4.0)\n",
      "Requirement already satisfied: python-dateutil>=2.7.3 in /opt/conda/envs/python35-paddle120-env/lib/python3.7/site-packages (from pandas->paddlehelix) (2.8.0)\n",
      "Requirement already satisfied: pytz>=2017.2 in /opt/conda/envs/python35-paddle120-env/lib/python3.7/site-packages (from pandas->paddlehelix) (2019.3)\n",
      "Requirement already satisfied: six>=1.5 in /opt/conda/envs/python35-paddle120-env/lib/python3.7/site-packages (from python-dateutil>=2.7.3->pandas->paddlehelix) (1.15.0)\n",
      "Requirement already satisfied: scikit-learn in /opt/conda/envs/python35-paddle120-env/lib/python3.7/site-packages (from sklearn->paddlehelix) (0.22.1)\n",
      "Requirement already satisfied: scipy>=0.17.0 in /opt/conda/envs/python35-paddle120-env/lib/python3.7/site-packages (from scikit-learn->sklearn->paddlehelix) (1.3.0)\n",
      "Requirement already satisfied: joblib>=0.11 in /opt/conda/envs/python35-paddle120-env/lib/python3.7/site-packages (from scikit-learn->sklearn->paddlehelix) (0.14.1)\n",
      "\u001b[33mWARNING: You are using pip version 21.0.1; however, version 21.1.1 is available.\n",
      "You should consider upgrading via the '/opt/conda/envs/python35-paddle120-env/bin/python -m pip install --upgrade pip' command.\u001b[0m\n"
     ]
    }
   ],
   "source": [
    "!pip install paddlehelix\r\n",
    "# import sys \r\n",
    "# sys.path.append('/home/aistudio/external-libraries')"
   ]
  },
  {
   "cell_type": "markdown",
   "metadata": {
    "collapsed": false
   },
   "source": [
    "### Data statistic"
   ]
  },
  {
   "cell_type": "code",
   "execution_count": 2,
   "metadata": {
    "collapsed": false
   },
   "outputs": [
    {
     "name": "stdout",
     "output_type": "stream",
     "text": [
      "4750\n",
      "250\n",
      "112\n"
     ]
    }
   ],
   "source": [
    "# 读取训练集、验证集和测试集数据\r\n",
    "from utils import ReadData, ReadFasta, List2Dict, TRAIN_TXT, DEV_TXT, TEST_TXT, FOLDC_FEATURE_FILE, CONTRAFOLD_FEATURE_FILES\r\n",
    "\r\n",
    "train_datas = ReadData(TRAIN_TXT, True)\r\n",
    "print(len(train_datas))\r\n",
    "dev_datas = ReadData(DEV_TXT, True)\r\n",
    "print(len(dev_datas))\r\n",
    "test_datas = ReadData(TEST_TXT, False)\r\n",
    "print(len(test_datas))\r\n"
   ]
  },
  {
   "cell_type": "code",
   "execution_count": 3,
   "metadata": {
    "collapsed": false
   },
   "outputs": [
    {
     "name": "stdout",
     "output_type": "stream",
     "text": [
      "length: 100 861\n"
     ]
    },
    {
     "data": {
      "text/plain": [
       "(array([263., 194., 150., 135., 145., 105., 156., 215., 222., 241., 208.,\n",
       "        170., 153., 159., 143., 141., 157., 177., 236., 208., 181., 222.,\n",
       "        244., 248., 264., 251.,  90.,   0.,   0.,   0.,   0.,   0.,   0.,\n",
       "          0.,   0.,   0.,   0.,   6.,   0.,   0.,  22.,   0.,   0.,   0.,\n",
       "          0.,   0.,   0.,   3.,   0.,   3.]),\n",
       " array([100.  , 115.22, 130.44, 145.66, 160.88, 176.1 , 191.32, 206.54,\n",
       "        221.76, 236.98, 252.2 , 267.42, 282.64, 297.86, 313.08, 328.3 ,\n",
       "        343.52, 358.74, 373.96, 389.18, 404.4 , 419.62, 434.84, 450.06,\n",
       "        465.28, 480.5 , 495.72, 510.94, 526.16, 541.38, 556.6 , 571.82,\n",
       "        587.04, 602.26, 617.48, 632.7 , 647.92, 663.14, 678.36, 693.58,\n",
       "        708.8 , 724.02, 739.24, 754.46, 769.68, 784.9 , 800.12, 815.34,\n",
       "        830.56, 845.78, 861.  ]),\n",
       " <a list of 50 Patch objects>)"
      ]
     },
     "execution_count": 3,
     "metadata": {},
     "output_type": "execute_result"
    },
    {
     "data": {
      "image/png": "[encoded data removed]",
      "text/plain": [
       "<Figure size 432x288 with 1 Axes>"
      ]
     },
     "metadata": {},
     "output_type": "display_data"
    }
   ],
   "source": [
    "import os\r\n",
    "import sys\r\n",
    "import time\r\n",
    "from tqdm import tqdm\r\n",
    "# import numba\r\n",
    "import numpy as np\r\n",
    "import matplotlib.pyplot as plt\r\n",
    "%matplotlib inline\r\n",
    "\r\n",
    "import pahelix.toolkit.linear_rna as linear_rna\r\n",
    "\r\n",
    "np.random.seed(2021)\r\n",
    "\r\n",
    "# 对rna长度和碱基分布进行统计分析\r\n",
    "all_seq = []\r\n",
    "all_stru = []\r\n",
    "all_length = []\r\n",
    "all_prob = []\r\n",
    "prob_dict = {\r\n",
    "    'A':[],\r\n",
    "    'C':[],\r\n",
    "    'G':[],\r\n",
    "    'U':[],\r\n",
    "    '(':[],\r\n",
    "    ')':[],\r\n",
    "    '.':[],\r\n",
    "}\r\n",
    "for data in train_datas+dev_datas+test_datas:\r\n",
    "    all_seq+=data[1]\r\n",
    "    all_stru += data[2]\r\n",
    "    all_length += [len(data[1]),]\r\n",
    "    if len(data)>3:\r\n",
    "        all_prob+=data[3]\r\n",
    "        for s,d,p in zip(data[1], data[2], data[3]):\r\n",
    "            prob_dict[s].append(p)\r\n",
    "            prob_dict[d].append(p)\r\n",
    "print('length:', min(all_length), max(all_length))\r\n",
    "plt.hist(all_length, bins=50)"
   ]
  },
  {
   "cell_type": "code",
   "execution_count": 4,
   "metadata": {
    "collapsed": false
   },
   "outputs": [
    {
     "name": "stdout",
     "output_type": "stream",
     "text": [
      "A 0.6285336177922761\n",
      "C 0.28163276316208524\n",
      "G 0.3009997370205152\n",
      "U 0.3637796560772179\n",
      "( 0.14009909802542647\n",
      ") 0.1424230962719017\n",
      ". 0.8058003383427836\n"
     ]
    }
   ],
   "source": [
    "# 碱基比例分布和结构比例分布\r\n",
    "for k, v in prob_dict.items():\r\n",
    "    print(k, sum(v)/len(v))\r\n",
    "# plt.figure(), plt.hist(prob_dict['A'])\r\n",
    "# plt.figure(), plt.hist(prob_dict['C'])\r\n",
    "# plt.figure(), plt.hist(prob_dict['G'])\r\n",
    "# plt.figure(), plt.hist(prob_dict['U'])\r\n",
    "# plt.figure(), plt.hist(prob_dict['('])\r\n",
    "# plt.figure(), plt.hist(prob_dict[')'])\r\n",
    "# plt.figure(), plt.hist(prob_dict['.'])\r\n"
   ]
  },
  {
   "cell_type": "code",
   "execution_count": 5,
   "metadata": {
    "collapsed": false
   },
   "outputs": [
    {
     "name": "stdout",
     "output_type": "stream",
     "text": [
      "Counter({'G': 469293, 'A': 423831, 'U': 362568, 'C': 356323})\n",
      "Counter({'.': 619535, '(': 496240, ')': 496240})\n"
     ]
    },
    {
     "data": {
      "text/plain": [
       "(array([819693.,  51007.,  29374.,  23551.,  21622.,  20957.,  22012.,\n",
       "         29433.,  48337., 496750.]),\n",
       " array([0. , 0.1, 0.2, 0.3, 0.4, 0.5, 0.6, 0.7, 0.8, 0.9, 1. ]),\n",
       " <a list of 10 Patch objects>)"
      ]
     },
     "execution_count": 5,
     "metadata": {},
     "output_type": "execute_result"
    },
    {
     "data": {
      "image/png": "[encoded data removed]",
      "text/plain": [
       "<Figure size 432x288 with 1 Axes>"
      ]
     },
     "metadata": {},
     "output_type": "display_data"
    }
   ],
   "source": [
    "# 对训练集标签分布进行直方图分析\r\n",
    "from collections import Counter\r\n",
    "seq_cnt = Counter(all_seq)\r\n",
    "stru_cnt = Counter(all_stru)\r\n",
    "print(seq_cnt)\r\n",
    "print(stru_cnt)\r\n",
    "# print('prob:', min(all_prob), max(all_prob), all_prob[:20])\r\n",
    "plt.hist(all_prob)"
   ]
  },
  {
   "cell_type": "code",
   "execution_count": 6,
   "metadata": {
    "collapsed": false
   },
   "outputs": [
    {
     "data": {
      "text/plain": [
       "<matplotlib.collections.PathCollection at 0x7fcb11bcf2d0>"
      ]
     },
     "execution_count": 6,
     "metadata": {},
     "output_type": "execute_result"
    },
    {
     "data": {
      "image/png": "[encoded data removed]",
      "text/plain": [
       "<Figure size 432x288 with 1 Axes>"
      ]
     },
     "metadata": {},
     "output_type": "display_data"
    }
   ],
   "source": [
    "# 分析rna长度和平均不成对概率之间的关系\r\n",
    "X = []\r\n",
    "Y = []\r\n",
    "for data in train_datas+dev_datas:\r\n",
    "    X.append(len(data[1]))\r\n",
    "    Y.append(sum(data[3])/len(data[3]))\r\n",
    "X = np.array(X)\r\n",
    "Y = np.array(Y)\r\n",
    "idx = np.argsort(X)\r\n",
    "X = X[idx]\r\n",
    "Y = Y[idx]\r\n",
    "plt.scatter(X, Y)"
   ]
  },
  {
   "cell_type": "code",
   "execution_count": 7,
   "metadata": {
    "collapsed": false
   },
   "outputs": [
    {
     "data": {
      "text/plain": [
       "<matplotlib.collections.PathCollection at 0x7fcb11bcf190>"
      ]
     },
     "execution_count": 7,
     "metadata": {},
     "output_type": "execute_result"
    },
    {
     "data": {
      "image/png": "[encoded data removed]",
      "text/plain": [
       "<Figure size 432x288 with 1 Axes>"
      ]
     },
     "metadata": {},
     "output_type": "display_data"
    }
   ],
   "source": [
    "# 考察局部匹配特征和不成对概率之间的关联。发现该特征效果不好，后舍弃。\r\n",
    "from MatchSub import CountMatch\r\n",
    "\r\n",
    "data_i=0\r\n",
    "seq = train_datas[data_i][1]\r\n",
    "cnt = CountMatch(seq, 7)\r\n",
    "prob = train_datas[data_i][3]\r\n",
    "st={}\r\n",
    "for c in cnt:\r\n",
    "    st[c]=[]\r\n",
    "for c, p in zip(cnt, prob):\r\n",
    "    st[c].append(p)\r\n",
    "x=[]\r\n",
    "y=[]\r\n",
    "for k, v in st.items():\r\n",
    "    x.append(k)\r\n",
    "    y.append(sum(v)/len(v))\r\n",
    "    # print(k, sum(v)/len(v))\r\n",
    "plt.scatter(x, y)\r\n"
   ]
  },
  {
   "cell_type": "markdown",
   "metadata": {
    "collapsed": false
   },
   "source": [
    "### Data Preprocess"
   ]
  },
  {
   "cell_type": "code",
   "execution_count": 8,
   "metadata": {
    "collapsed": false
   },
   "outputs": [],
   "source": [
    "\r\n",
    "# 训练数据填充长度\r\n",
    "TRAIN_LENGTH = 768\r\n",
    "# 测试数据填充长度\r\n",
    "PREDICT_LENGTH = 5120\r\n",
    "# 头部填充长度\r\n",
    "PRE_FILL = 128\r\n",
    "# 数据类型\r\n",
    "DTYPE = np.float32\r\n",
    "\r\n",
    "# 是否使用原始序列编码特征\r\n",
    "USE_SEQ = True\r\n",
    "# 是否使用结构序列编码特征\r\n",
    "USE_DOT = True\r\n",
    "# 是否使用foldc结构特征\r\n",
    "USE_FOLD_C = True\r\n",
    "# 是否使用contrafold结构特征\r\n",
    "USE_CONTRAFOLD = True\r\n",
    "# 不使用平均概率特征\r\n",
    "USE_MEAN_PROB = False\r\n",
    "# 不使用局部匹配特征\r\n",
    "MATCH_NEIGHBORS = []\r\n",
    "\r\n",
    "if USE_FOLD_C:\r\n",
    "    # 读取预处理的foldc结构序列\r\n",
    "    data = List2Dict(ReadFasta(FOLDC_FEATURE_FILE, with_structure=True))\r\n",
    "    fold_c_features = {}\r\n",
    "    for sid, val in data.items():\r\n",
    "        fold_c_features[sid] = val[2]\r\n",
    "\r\n",
    "if USE_CONTRAFOLD:\r\n",
    "    # 读取预处理的contrafold结构序列\r\n",
    "    contrafold_features = []\r\n",
    "    for f in CONTRAFOLD_FEATURE_FILES:\r\n",
    "        data = List2Dict(ReadFasta(f, with_structure=True))\r\n",
    "        feature = {}\r\n",
    "        for sid, val in data.items():\r\n",
    "            feature[sid]=val[2]\r\n",
    "        contrafold_features.append(feature)\r\n",
    "\r\n",
    "# 计算A、C、G、U的平均概率，未使用该特征\r\n",
    "PROB_DICT = {}\r\n",
    "for k, v in prob_dict.items():\r\n",
    "    PROB_DICT[k]=sum(v)/len(v)\r\n",
    "\r\n",
    "# 对序列进行one hot编码，编码字典为coder\r\n",
    "def Codec(seq, fill_length = TRAIN_LENGTH, pre_fill = PRE_FILL, coder={'A':0, 'C':1, 'G':2, 'U':3}):\r\n",
    "    l = len(seq)\r\n",
    "    feature = np.zeros([len(coder), fill_length], dtype=DTYPE)\r\n",
    "    for i in range(l):\r\n",
    "        feature[coder[seq[i]], pre_fill+i]=1.\r\n",
    "    return feature\r\n",
    "\r\n",
    "# 将序列填充到指定长度，序列头部填充指定长度的零\r\n",
    "def Fill(feature, fill_length = TRAIN_LENGTH, pre_fill = PRE_FILL):\r\n",
    "    if len(feature.shape)==1:\r\n",
    "        feature = feature.reshape([1, -1])\r\n",
    "    D = feature.shape[0]\r\n",
    "    feature = feature.reshape([D, -1])\r\n",
    "    L = feature.shape[1]\r\n",
    "    filled = np.zeros([D, fill_length], dtype=DTYPE)\r\n",
    "    filled[:, pre_fill:(pre_fill+L)] = feature\r\n",
    "    return filled\r\n",
    "\r\n",
    "# 将ACGU序列转换为对应的平均概率序列\r\n",
    "def MeanProbFeature(seq, fill_length = TRAIN_LENGTH, pre_fill = PRE_FILL, dt=PROB_DICT):\r\n",
    "    l = len(seq)\r\n",
    "    feature = np.zeros([1, fill_length], dtype=DTYPE)\r\n",
    "    for i in range(l):\r\n",
    "        feature[0, pre_fill+i]=dt[seq[i]]\r\n",
    "    return feature\r\n"
   ]
  },
  {
   "cell_type": "code",
   "execution_count": 9,
   "metadata": {
    "collapsed": false
   },
   "outputs": [
    {
     "name": "stdout",
     "output_type": "stream",
     "text": [
      ">id_1 (22, 768) 428 (768,) (768,)\n"
     ]
    }
   ],
   "source": [
    "def preprocess(data, fill_length = TRAIN_LENGTH, pre_fill = PRE_FILL):\r\n",
    "    ## 按预定义参数把RNA序列转换为特征序列。本方法用到的都是one hot编码的特征。\r\n",
    "    ## 返回值中的data[0]为序列名，feature为转换后的特征，l为原始序列长度，mask为填充的掩码，对训练集多返回一个prob为标签。\r\n",
    "    coder = {'A':0, 'C':1, 'G':2, 'U':3, '.':0, '(':1, ')':2}\r\n",
    "    l = len(data[1])\r\n",
    "    mask = np.zeros([fill_length], dtype=DTYPE)\r\n",
    "    mask[pre_fill:(l+pre_fill)]=1.\r\n",
    "    features = []\r\n",
    "    if USE_SEQ:\r\n",
    "        features.append(Codec(data[1], fill_length, pre_fill, coder={'A':0, 'C':1, 'G':2, 'U':3}))\r\n",
    "    if USE_DOT:\r\n",
    "        features.append(Codec(data[2], fill_length, pre_fill, coder={'.':0, '(':1, ')':2}))\r\n",
    "    if USE_FOLD_C:\r\n",
    "        features.append(Codec(fold_c_features[data[0]], fill_length, pre_fill, coder={'.':0, '(':1, ')':2}))\r\n",
    "    if USE_CONTRAFOLD:\r\n",
    "        for f in contrafold_features:\r\n",
    "            features.append(Codec(f[data[0]], fill_length, pre_fill, coder={'.':0, '(':1, ')':2}))\r\n",
    "    if USE_MEAN_PROB:\r\n",
    "        features.append(MeanProbFeature(data[1], fill_length, pre_fill))\r\n",
    "    for W in MATCH_NEIGHBORS:\r\n",
    "        features.append(Fill(CountMatch(data[1], W), fill_length, pre_fill))\r\n",
    "    feature = np.concatenate(features)\r\n",
    "    # feature = np.expand_dims(feature, axis=0)\r\n",
    "    if len(data)>3:\r\n",
    "        prob = np.zeros([fill_length], dtype=DTYPE)\r\n",
    "        prob[pre_fill:(l+pre_fill)] = np.array(data[3], dtype=DTYPE)\r\n",
    "        return (data[0], feature, l, mask, prob)\r\n",
    "    else:\r\n",
    "        return (data[0], feature, l, mask)\r\n",
    "def select_output(result_filled, l, pre_fill = PRE_FILL):\r\n",
    "    ## 提取结果中对应于输入的那部分，填充部分去掉。ed, l, pre_fill = PRE_FILL):\r\n",
    "    if len(result_filled.shape)>1:\r\n",
    "        result_filled = result_filled.reshape([-1])\r\n",
    "    return result_filled[pre_fill:(pre_fill+l)]\r\n",
    "\r\n",
    "## 对特征转换进行测试\r\n",
    "name, feature, l, mask, prob = preprocess(train_datas[0])\r\n",
    "INPUT_DEPTH = feature.shape[0]\r\n",
    "print(name, feature.shape, l, mask.shape, prob.shape)\r\n"
   ]
  },
  {
   "cell_type": "code",
   "execution_count": 10,
   "metadata": {
    "collapsed": false
   },
   "outputs": [
    {
     "name": "stderr",
     "output_type": "stream",
     "text": [
      "100%|██████████| 4750/4750 [00:02<00:00, 2226.56it/s]\n",
      "100%|██████████| 250/250 [00:00<00:00, 1053.12it/s]\n",
      "100%|██████████| 112/112 [00:00<00:00, 1099.71it/s]"
     ]
    },
    {
     "name": "stdout",
     "output_type": "stream",
     "text": [
      "4750 250 112\n"
     ]
    },
    {
     "name": "stderr",
     "output_type": "stream",
     "text": [
      "\n"
     ]
    }
   ],
   "source": [
    "## 对训练集、验证集、测试集进行特征提取预处理。\r\n",
    "\r\n",
    "train_dataset = [preprocess(d, TRAIN_LENGTH) for d in tqdm(train_datas)]\r\n",
    "dev_dataset = [preprocess(d, PREDICT_LENGTH) for d in tqdm(dev_datas)]\r\n",
    "test_dataset = [preprocess(d, PREDICT_LENGTH) for d in tqdm(test_datas)]\r\n",
    "print(len(train_dataset), len(dev_dataset), len(test_dataset))\r\n"
   ]
  },
  {
   "cell_type": "code",
   "execution_count": 11,
   "metadata": {
    "collapsed": false
   },
   "outputs": [
    {
     "name": "stdout",
     "output_type": "stream",
     "text": [
      "4000 1000\n"
     ]
    }
   ],
   "source": [
    "## 对训练集进行重新划分，以避免验证集太少导致的过拟合。\r\n",
    "SPLIT_TRAIN = True\r\n",
    "DEV_PERCENT = 0.2\r\n",
    "\r\n",
    "if SPLIT_TRAIN:\r\n",
    "    all_dataset = train_dataset+[(d[0], d[1][:, :TRAIN_LENGTH], d[2], d[3][:TRAIN_LENGTH], d[4][:TRAIN_LENGTH]) for d in dev_dataset]\r\n",
    "    dev_cnt = int(DEV_PERCENT*len(all_dataset))\r\n",
    "    np.random.shuffle(all_dataset)\r\n",
    "    train_dataset = all_dataset[dev_cnt:]\r\n",
    "    dev_dataset = all_dataset[:dev_cnt]\r\n",
    "    # dev_dataset = [(d[0], d[1], d[2], d[3], d[4]) for d in dev_dataset]\r\n",
    "    print(len(train_dataset), len(dev_dataset))"
   ]
  },
  {
   "cell_type": "markdown",
   "metadata": {
    "collapsed": false
   },
   "source": [
    "### Network"
   ]
  },
  {
   "cell_type": "code",
   "execution_count": 12,
   "metadata": {
    "collapsed": false
   },
   "outputs": [
    {
     "name": "stdout",
     "output_type": "stream",
     "text": [
      "2.0.2\n"
     ]
    }
   ],
   "source": [
    "import paddle\r\n",
    "import visualdl\r\n",
    "\r\n",
    "# 预测时加载哪个模型的参数\r\n",
    "USE_MODEL = 'best_model'\r\n",
    "# 结果保存文件夹\r\n",
    "OUTPUT_PATH = 'predict'\r\n",
    "# 输出时是否增加sigmoid层，A榜测试时发现不加效果更好。\r\n",
    "OUTPUT_WITH_SIGMOID = False\r\n",
    "\r\n",
    "# 使用BifpnModel，即后续的BifpnModel类\r\n",
    "MODEL_NAME = 'BifpnModel'\r\n",
    "\r\n",
    "# 训练轮数。我一般训练30-40轮就人工停止了。\r\n",
    "EPOCHS = 100\r\n",
    "BATCH_SIZE = 16\r\n",
    "LEARNING_RATE = 1e-4\r\n",
    "# 前5轮学习率为warm up，即从0线性增长到预定学习率。\r\n",
    "WARMUP_EPOCH = 5\r\n",
    "\r\n",
    "# 预测复现时设置为False，直接调用训练好的模型参数。设置为True时进入训练流程。\r\n",
    "TRAIN = False\r\n",
    "\r\n",
    "#################\r\n",
    "### SimpleCNN ###\r\n",
    "#################\r\n",
    "LAYERS = [4,4,4]\r\n",
    "KERNEL_SIZE = 11\r\n",
    "BASE_DEPTH = 32\r\n",
    "\r\n",
    "##################\r\n",
    "### BifpnModel ###\r\n",
    "##################\r\n",
    "\r\n",
    "# 扩张层的特征扩张倍数\r\n",
    "DEPTH_MULTIPLIER = 6\r\n",
    "\r\n",
    "# 网络结构设置\r\n",
    "BACKBONE=[\r\n",
    "    [('MBConv',4,7),],\r\n",
    "    [('MBConv',8,5),('MBConv',8,5),],\r\n",
    "    [('MBConv',16,5),('MBConv',16,5),],\r\n",
    "    [('MBConv',32,5),('MBConv',32,5),],\r\n",
    "    [('MBConv',48,5),('MBConv',48,5),],\r\n",
    "    [('MBConv',64,5),('MBConv',64,5),],\r\n",
    "]\r\n",
    "BIFPN_SETTING=[('Conv',8,5),('Conv',8,5),('Conv',8,5),('Conv',4,5),]\r\n",
    "UP_STAGE = ('Conv',4,5)\r\n",
    "BASE_CHANNELS=16\r\n",
    "DROPOUT_RATE=0.5\r\n",
    "\r\n",
    "###############\r\n",
    "### Predict ###\r\n",
    "###############\r\n",
    "\r\n",
    "# 是否对结果进行非线性变换，使结果更偏向于0和1。A榜测试时发现后处理效果不好。\r\n",
    "USE_POST_PROCESS = False\r\n",
    "\r\n",
    "print(paddle.__version__)"
   ]
  },
  {
   "cell_type": "code",
   "execution_count": 13,
   "metadata": {
    "collapsed": false
   },
   "outputs": [],
   "source": [
    "# 竞赛初期采用的一维卷积网络，仅用于验证一维卷积对本问题的适用性。\r\n",
    "class SimpleCNN(paddle.nn.Layer):\r\n",
    "    def __init__(self, layers = LAYERS, kernel_size = KERNEL_SIZE, base_depth = BASE_DEPTH):\r\n",
    "        super(SimpleCNN, self).__init__()\r\n",
    "        depths = [d*base_depth for d in layers]\r\n",
    "        pre_layer = [INPUT_DEPTH]+depths[:-1]\r\n",
    "        convs = [paddle.nn.Conv1D(pred, d, kernel_size, padding='SAME') for pred, d in zip(pre_layer, depths)]\r\n",
    "        # for layer_id, layer in enumerate(convs):\r\n",
    "        #     self.add_sublayer('convs_%d'%layer_id, layer)\r\n",
    "        self.out = paddle.nn.Conv1D(depths[-1], 1, 1, padding='SAME')\r\n",
    "        self.convs = paddle.nn.LayerList(convs)\r\n",
    "\r\n",
    "    def forward(self, inputs):\r\n",
    "        x=inputs\r\n",
    "        for layer in self.convs:\r\n",
    "            x = layer(x)\r\n",
    "            x = paddle.nn.functional.relu(x)\r\n",
    "        x = self.out(x)\r\n",
    "        if OUTPUT_WITH_SIGMOID:\r\n",
    "            x = paddle.nn.functional.sigmoid(x)\r\n",
    "        return x"
   ]
  },
  {
   "cell_type": "code",
   "execution_count": 14,
   "metadata": {
    "collapsed": false
   },
   "outputs": [],
   "source": [
    "# 一些组建网络的基本模块\n",
    "\n",
    "def CheckList(param, cnt):\n",
    "\t'''\n",
    "\tif param is int, convert to list\n",
    "\t'''\n",
    "\tif '__len__' in dir(param):\n",
    "\t\tif len(param)!=cnt:\n",
    "\t\t\traise ValueError('parameter has wrong length. cnt=%d, len(param)=%d'%(cnt, len(param)))\n",
    "\telse:\n",
    "\t\tparam = [param]*cnt\n",
    "\treturn param\n",
    "def DownSampling(in_channels, out_channels, kernel_size):\n",
    "\treturn paddle.nn.Conv1D(in_channels, out_channels, kernel_size, stride=2, padding='SAME')\n",
    "def UpSampling(in_channels, out_channels):\n",
    "\treturn paddle.nn.Conv1DTranspose(in_channels, out_channels, kernel_size=4, stride=2, padding=1)\n",
    "def Activation():\n",
    "\treturn paddle.nn.Hardswish()\n",
    "def Conv(in_channels, out_channels, kernel_size, act=True, bias=True):\n",
    "\tif bias==True:\n",
    "\t\t# None means default\n",
    "\t\tbias = None\n",
    "\tconv_func = paddle.nn.Conv1D(in_channels, out_channels, kernel_size, padding='SAME', bias_attr=bias)\n",
    "\tif act:\n",
    "\t\tconv_func = paddle.nn.Sequential(\n",
    "\t\t\tconv_func,\n",
    "\t\t\tActivation()\n",
    "\t\t)\n",
    "\treturn conv_func\n",
    "def DepthConv(in_channels, out_channels, kernel_size, depth_multiplier=DEPTH_MULTIPLIER):\n",
    "\tmid_channels=depth_multiplier*in_channels\n",
    "\treturn paddle.nn.Sequential(\n",
    "\t\tConv(in_channels, mid_channels, 1, act=True, bias=True),\n",
    "\t\tpaddle.nn.Conv1D(mid_channels, mid_channels, kernel_size, padding='SAME', groups=mid_channels),\n",
    "\t\tActivation(),\n",
    "\t\tConv(mid_channels, out_channels, 1, act=False, bias=False)\n",
    "\t)\n",
    "class MBConv(paddle.nn.Layer):\n",
    "\tdef __init__(self, in_channels, out_channels, kernel_size):\n",
    "\t\tsuper(MBConv, self).__init__()\n",
    "\t\tself.bridge = (in_channels!=out_channels)\n",
    "\t\tself.conv = DepthConv(in_channels, out_channels, kernel_size)\n",
    "\t\tself.bn = paddle.nn.BatchNorm1D(num_features=out_channels)\n",
    "\t\tif self.bridge:\n",
    "\t\t\tself.conv_bridge = Conv(in_channels, out_channels, 1, False, False)\n",
    "\tdef forward(self, x):\n",
    "\t\ty = self.conv(x)\n",
    "\t\tif self.bridge:\n",
    "\t\t\tx = self.conv_bridge(x)\n",
    "\t\tx = paddle.add(x,y)\n",
    "\t\tx = self.bn(x)\n",
    "\t\treturn Activation()(x)"
   ]
  },
  {
   "cell_type": "code",
   "execution_count": 16,
   "metadata": {
    "collapsed": false
   },
   "outputs": [
    {
     "name": "stdout",
     "output_type": "stream",
     "text": [
      "feature_channels: [256, 512, 1024, 2048]\n",
      "input: [32, 22, 512]\n",
      "feature: [32, 256, 512]\n",
      "feature: [32, 512, 256]\n",
      "feature: [32, 1024, 128]\n",
      "feature: [32, 2048, 64]\n"
     ]
    }
   ],
   "source": [
    "class Backbone(paddle.nn.Layer):\n",
    "    '''按参数设置生成backbone网络，网络的输出是金字塔特征组'''\n",
    "    def __init__(self, input_channels, backbone_setting, base_channels, dropout_rate=0):\n",
    "        super(Backbone, self).__init__()\n",
    "        self.input_channels = input_channels\n",
    "        # 用于串联层的临时变量\n",
    "        self._in_channel = input_channels\n",
    "        self.base_channels = base_channels\n",
    "        self.dropout_rate = dropout_rate\n",
    "        self.feature_channels = [bs[-1][1]*base_channels for bs in backbone_setting]\n",
    "        self.layers = paddle.nn.LayerList([self.make_stage(bs, i==0) for i, bs in enumerate(backbone_setting)])\n",
    "        del self._in_channel\n",
    "\n",
    "    def forward(self, x):\n",
    "        #TODO:\n",
    "        _, f, _ = x.shape\n",
    "        if f!=self.input_channels:\n",
    "            raise ValueError('输入数据特征不匹配')\n",
    "        features = []\n",
    "        for layer_id, layer in enumerate(self.layers):\n",
    "            x = layer(x)\n",
    "            features.append(x)\n",
    "            if layer_id == len(self.layers)-1:\n",
    "                x = paddle.nn.MaxPool1D(2)(x)\n",
    "            if self.dropout_rate>0:\n",
    "                x = paddle.nn.Dropout(self.dropout_rate)(x)\n",
    "        return features\n",
    "    \n",
    "    def make_stage(self, stage_setting, first_one=False):\n",
    "        in_ch = self._in_channel\n",
    "        layers = []\n",
    "        if not first_one:\n",
    "            layers.append(paddle.nn.MaxPool1D(2))\n",
    "        for conv_func, fm, ks in stage_setting:\n",
    "            out_ch = fm*self.base_channels\n",
    "            layers.append(eval(conv_func)(in_ch, out_ch, ks))\n",
    "            in_ch = out_ch\n",
    "            if conv_func == 'Conv':\n",
    "                layers.append(paddle.nn.BatchNorm1D(num_features=in_ch))\n",
    "        self._in_channel = in_ch\n",
    "        return paddle.nn.Sequential(*layers)\n"
   ]
  },
  {
   "cell_type": "code",
   "execution_count": null,
   "metadata": {
    "collapsed": false
   },
   "outputs": [],
   "source": [
    "class BifpnModule(paddle.nn.Layer):\n",
    "    '''对金字塔特征进行特征变换，结构参考EfficientDet中的BIFPN所设计。'''\n",
    "    def __init__(self, layer_depth, conv_func, in_channels, out_channels, kernel_size):\n",
    "        super(BifpnModule, self).__init__()\n",
    "        #TODO:\n",
    "        in_channels = CheckList(in_channels, layer_depth)\n",
    "        out_channels = CheckList(out_channels, layer_depth)\n",
    "        if isinstance(conv_func, str):\n",
    "            conv_func = eval(conv_func)\n",
    "        # print('Bifpn:', in_channels, '->', out_channels)\n",
    "        self.input_convs = paddle.nn.LayerList([conv_func(ich, och, kernel_size) for ich, och in zip(in_channels, out_channels)])\n",
    "        self.mid_convs = paddle.nn.LayerList([conv_func(ch, ch, kernel_size) for ch in out_channels[:-1]])\n",
    "        self.ups = paddle.nn.LayerList([UpSampling(ich, och) for ich,och in zip(out_channels[1:], out_channels[:-1])])\n",
    "        self.downs = paddle.nn.LayerList([DownSampling(ich, och, kernel_size) for ich,och in zip(out_channels[:-1], out_channels[1:])])\n",
    "        self.output_convs = paddle.nn.LayerList([conv_func(ch, ch, kernel_size) for ch in out_channels[1:]])\n",
    "\n",
    "    def forward(self, features):\n",
    "        #TODO:\n",
    "        N = len(features)\n",
    "        Pi = [conv(f) for conv, f in zip(self.input_convs, features)]\n",
    "        Ptd = []\n",
    "        Pu = [self.ups[N-2](Pi[-1])]\n",
    "        # print('use ups[%d]'%(N-2))\n",
    "        for i in range(-2, -N-1, -1):\n",
    "            x = paddle.add(Pu[-1], Pi[i])\n",
    "            x = self.mid_convs[N+i](x)\n",
    "            # print('use mid_convs[%d] and ups[%d]'%(N+i, N+i-1))\n",
    "            Ptd.append(x)\n",
    "            if N+i>0:\n",
    "                Pu.append(self.ups[N+i-1](x))\n",
    "        Po=[Ptd[-1]]\n",
    "        Ptd.pop()\n",
    "        for i in range(N-2):\n",
    "            # x = paddle.nn.MaxPool1D(2)(Po[-1])\n",
    "            x = self.downs[i](Po[-1])\n",
    "            x = paddle.add_n([x, Ptd[-1], Pi[i+1]])\n",
    "            Ptd.pop()\n",
    "            Po.append(self.output_convs[i](x))\n",
    "            # print('use output_convs[%d]'%(i))\n",
    "        x = paddle.add(self.downs[N-2](Po[-1]), Pi[-1])\n",
    "        Po.append(self.output_convs[N-2](x))\n",
    "        # print('use output_convs[%d]'%(N-1))\n",
    "        return Po\n",
    "# #TODO: test it\n",
    "# bifpn = BifpnModule(len(features), 'Conv', back.feature_channels, [128, 256, 512, 1024], 5)\n",
    "# # bifpn = BifpnModule(len(features), 'Conv', back.feature_channels, 256, 5)\n",
    "# features = bifpn(features)\n",
    "# for f in features:\n",
    "#     print('feature:', f.shape)\n"
   ]
  },
  {
   "cell_type": "code",
   "execution_count": null,
   "metadata": {
    "collapsed": false
   },
   "outputs": [],
   "source": [
    "class UpStage(paddle.nn.Layer):\n",
    "    '''将变换后的特征逐层上采样，直到得出与输入长度一致的一维输出'''\n",
    "    def __init__(self, layer_depth, conv_func, in_channels, out_channels, kernel_size):\n",
    "        super(UpStage, self).__init__()\n",
    "        in_channels = CheckList(in_channels, layer_depth)\n",
    "        out_channels = CheckList(out_channels, layer_depth)\n",
    "        #TODO:\n",
    "        if isinstance(conv_func, str):\n",
    "            conv_func = eval(conv_func)\n",
    "        self.convs = paddle.nn.LayerList([conv_func(ich, och, kernel_size) for ich, och in zip(in_channels, out_channels)])\n",
    "        self.ups = paddle.nn.LayerList([UpSampling(ich, och) for ich,och in zip(out_channels[1:], out_channels[:-1])])\n",
    "        self.output_channels = out_channels[0]\n",
    "        # self.output = Conv(out_channels[0], 1, 1)\n",
    "\n",
    "    def forward(self, features):\n",
    "        #TODO:\n",
    "        N = len(features)\n",
    "        features = [conv(f) for conv, f in zip(self.convs, features)]\n",
    "        x = features[-1]\n",
    "        # print(x.shape)\n",
    "        for i in range(N-2, -1, -1):\n",
    "            # print('i=%d'%i)\n",
    "            x = paddle.add_n([features[i], self.ups[i](x)])\n",
    "        # x = self.output(x)\n",
    "        return x\n",
    "# #TODO: test it\n",
    "# upstage = UpStage(4, 'MBConv', [128, 256, 512, 1024], [64, 128, 256, 512], 5)\n",
    "# out = upstage(features)\n",
    "# print(out.shape)"
   ]
  },
  {
   "cell_type": "code",
   "execution_count": null,
   "metadata": {
    "collapsed": false
   },
   "outputs": [],
   "source": [
    "class BifpnModel(paddle.nn.Layer):\n",
    "    '''将backbone网络、bifpn网络、上采样网络组合成一个完整的端到端模型。'''\n",
    "    def __init__(self, \n",
    "                 input_channels = INPUT_DEPTH,\n",
    "                 backbone_setting = BACKBONE, \n",
    "                 bifpn_setting = BIFPN_SETTING, \n",
    "                 up_stage = UP_STAGE,\n",
    "                #  depth_multiplier = DEPTH_MULTIPLIER,\n",
    "                 base_channels = BASE_CHANNELS,\n",
    "                 dropout_rate = DROPOUT_RATE):\n",
    "        super(BifpnModel, self).__init__()\n",
    "        layer_depth = len(backbone_setting)\n",
    "        self.backbone = Backbone(input_channels, backbone_setting, base_channels, dropout_rate)\n",
    "        def multiply(fm, base):\n",
    "            if '__len__' in dir(fm):\n",
    "                fm = [f*base for f in fm]\n",
    "            else:\n",
    "                fm *= base\n",
    "            return fm\n",
    "        in_filters = [self.backbone.feature_channels]+[CheckList(multiply(fm,base_channels),layer_depth) for _,fm,_ in bifpn_setting]\n",
    "        out_filters = in_filters[-1]\n",
    "        in_filters = in_filters[:-1]\n",
    "        self.bifpns = paddle.nn.Sequential(*[BifpnModule(layer_depth, conv_func, in_filters[bifpn_id], multiply(fm,base_channels), ks) for bifpn_id, (conv_func, fm, ks) in enumerate(bifpn_setting)])\n",
    "        up_conv, up_fm, up_ks = up_stage\n",
    "        self.ups = UpStage(layer_depth, up_conv, out_filters, multiply(up_fm,base_channels), up_ks)\n",
    "        self.out = paddle.nn.Conv1D(self.ups.output_channels, 1, 1, padding='SAME')\n",
    "    \n",
    "    def forward(self, inputs):\n",
    "        fps = self.backbone(inputs)\n",
    "        fps = self.bifpns(fps)\n",
    "        x = self.ups(fps)\n",
    "        x = self.out(x)\n",
    "        if OUTPUT_WITH_SIGMOID:\n",
    "            x = paddle.nn.functional.sigmoid(x)\n",
    "        return x\n",
    "# model = BifpnModel()\n",
    "# x = paddle.zeros([32, INPUT_DEPTH, 512])\n",
    "# out = model(x)\n",
    "# print(out.shape)\n",
    "# paddle.summary(model, input_size=x.shape)"
   ]
  },
  {
   "cell_type": "code",
   "execution_count": null,
   "metadata": {
    "collapsed": false
   },
   "outputs": [],
   "source": [
    "'''竞赛初期测试时采用的简单lstm网络'''\r\n",
    "class SimpleLSTM(paddle.nn.Layer):\r\n",
    "    def __init__(self):\r\n",
    "        super(SimpleLSTM, self).__init__()\r\n",
    "        depth = 64\r\n",
    "        self.rnn_0 = paddle.nn.BiRNN(paddle.nn.LSTMCell(INPUT_DEPTH, depth), paddle.nn.LSTMCell(INPUT_DEPTH, depth))\r\n",
    "        # self.rnn_1 = paddle.nn.BiRNN(paddle.nn.LSTMCell(depth*2, depth), paddle.nn.LSTMCell(depth*2, depth))\r\n",
    "        # self.rnn_2 = paddle.nn.BiRNN(paddle.nn.LSTMCell(depth*2, depth), paddle.nn.LSTMCell(depth*2, depth))\r\n",
    "        self.out = paddle.nn.Linear(depth*2, 1)\r\n",
    "\r\n",
    "    def forward(self, inputs):\r\n",
    "        x = paddle.transpose(inputs, [0, 2, 1])\r\n",
    "        x, _ = self.rnn_0(x)\r\n",
    "        # x, _ = self.rnn_1(x)\r\n",
    "        # x, _ = self.rnn_2(x)\r\n",
    "        x = self.out(x)\r\n",
    "        if OUTPUT_WITH_SIGMOID:\r\n",
    "            x = paddle.nn.functional.sigmoid(x)\r\n",
    "        return paddle.transpose(x, [0, 2, 1])"
   ]
  },
  {
   "cell_type": "code",
   "execution_count": null,
   "metadata": {
    "collapsed": false
   },
   "outputs": [],
   "source": [
    "def predict(model, dataset, batch_size=BATCH_SIZE, fill_length=PREDICT_LENGTH):\r\n",
    "    '''逐batch预测结果，并将结果还原到原始序列长度'''\r\n",
    "    X = np.zeros([len(dataset), INPUT_DEPTH, fill_length], dtype=DTYPE)\r\n",
    "    Yp = np.zeros([len(dataset), 1, fill_length], dtype=DTYPE)\r\n",
    "    for i, data in enumerate(dataset):\r\n",
    "        X[i]=data[1]\r\n",
    "    model.eval()\r\n",
    "    for i in range(0, len(dataset), batch_size):\r\n",
    "        batch_X = paddle.to_tensor(X[i:(i+batch_size)])\r\n",
    "        batch_Yp = model(batch_X).numpy().clip(0, 1)\r\n",
    "        Yp[i:(i+batch_size)] = batch_Yp\r\n",
    "    return [select_output(yp, data[2]) for yp, data in zip(Yp, dataset)]\r\n",
    "\r\n",
    "def train(model, epochs = EPOCHS, batch_size=BATCH_SIZE, shuffle=True):\r\n",
    "    '''\r\n",
    "    训练主函数，采用VisualDL可视化训练过程。\r\n",
    "    每10 epochs或得到最好结果时，保存一次模型参数。\r\n",
    "    '''\r\n",
    "    print('start train.')\r\n",
    "    start_time = time.time()\r\n",
    "    batch_per_epoch = len(train_dataset)//batch_size\r\n",
    "    iters_all = epochs*batch_per_epoch\r\n",
    "    lr_scheduler = paddle.optimizer.lr.PolynomialDecay(LEARNING_RATE, power=0.9, decay_steps=iters_all, end_lr=0)\r\n",
    "    lr_warmup = paddle.optimizer.lr.LinearWarmup(lr_scheduler, batch_per_epoch*WARMUP_EPOCH, 0, LEARNING_RATE)\r\n",
    "    opt = paddle.optimizer.Adam(learning_rate=lr_warmup, parameters=model.parameters())\r\n",
    "    # loss_fn = lambda Y, Yp, mask:paddle.nn.SmoothL1Loss()(Y*mask, Yp*mask)\r\n",
    "    loss_fn = lambda Y, Yp, mask:paddle.sqrt(paddle.sum(paddle.square(Y-Yp)*mask)/paddle.sum(mask))\r\n",
    "    best_rmsd = 1e10\r\n",
    "    best_epoch = 0\r\n",
    "    vdl_path = 'Models/vdl_log/'\r\n",
    "    if os.path.exists(vdl_path):\r\n",
    "        os.system('rm -rf %s'%vdl_path)\r\n",
    "    vdl_writer = visualdl.LogWriter(vdl_path)\r\n",
    "    iter = 0\r\n",
    "    for epoch in range(epochs):\r\n",
    "        if shuffle:\r\n",
    "            np.random.shuffle(train_dataset)\r\n",
    "        model.train()\r\n",
    "        batch_X = np.zeros([batch_size, INPUT_DEPTH, TRAIN_LENGTH], dtype=DTYPE)\r\n",
    "        batch_Y = np.zeros([batch_size, 1, TRAIN_LENGTH], dtype=DTYPE)\r\n",
    "        batch_mask = np.zeros([batch_size, 1, TRAIN_LENGTH], dtype=DTYPE)\r\n",
    "        bs_i = 0\r\n",
    "        bs_cnt = 0\r\n",
    "        sys.stdout.flush()\r\n",
    "        time.sleep(1)\r\n",
    "        for data in tqdm(train_dataset):\r\n",
    "            batch_X[bs_i] = data[1]\r\n",
    "            batch_Y[bs_i, 0] = data[4]\r\n",
    "            batch_mask[bs_i, 0] = data[3]\r\n",
    "            bs_i+=1\r\n",
    "            if bs_i == batch_size:\r\n",
    "                iter += 1\r\n",
    "                X = paddle.to_tensor(batch_X)\r\n",
    "                Y = paddle.to_tensor(batch_Y)\r\n",
    "                mask = paddle.to_tensor(batch_mask)\r\n",
    "                Yp = model(X)\r\n",
    "                loss = loss_fn(Y, Yp, mask)\r\n",
    "                # loss_scalar = min(1., loss.numpy()[0])\r\n",
    "                loss_scalar = loss.numpy()[0]\r\n",
    "                if loss_scalar>1:\r\n",
    "                    loss_scalar = 1+(loss_scalar-1)/1000\r\n",
    "                vdl_writer.add_scalar('loss', loss_scalar, iter)\r\n",
    "                vdl_writer.add_scalar('learning_rate', opt.get_lr(), iter)\r\n",
    "                loss.backward()\r\n",
    "                opt.step()\r\n",
    "                if isinstance(opt._learning_rate,\r\n",
    "                            paddle.optimizer.lr.LRScheduler):\r\n",
    "                    opt._learning_rate.step()\r\n",
    "                opt.clear_grad()\r\n",
    "                bs_i = 0\r\n",
    "                bs_cnt+=1\r\n",
    "        Yp = predict(model, dev_dataset, fill_length = TRAIN_LENGTH)\r\n",
    "        rmsd = 0\r\n",
    "        for data, yp in zip(dev_dataset, Yp):\r\n",
    "            y=select_output(data[4], data[2])\r\n",
    "            rmsd += np.sqrt(np.mean((y-yp)*(y-yp)))\r\n",
    "        rmsd /= len(dev_dataset)\r\n",
    "        vdl_writer.add_scalar('valid_rmsd', rmsd, epoch)\r\n",
    "        if (epoch+1)%10==0:\r\n",
    "            save_path = 'Models/epoch_%d/'%(epoch+1)\r\n",
    "            if os.path.exists(save_path):\r\n",
    "                os.system('rm -rf %s'%save_path)\r\n",
    "            paddle.save(model.state_dict(), save_path+'model.pdparams')\r\n",
    "            # paddle.save(opt.state_dict(), save_path+'opt.pdopt')\r\n",
    "            print('Save to', save_path)\r\n",
    "        if rmsd<best_rmsd:\r\n",
    "            save_path = 'Models/best_model/'\r\n",
    "            if os.path.exists(save_path):\r\n",
    "                os.system('rm -rf %s'%save_path)\r\n",
    "            paddle.save(model.state_dict(), save_path+'model.pdparams')\r\n",
    "            # paddle.save(opt.state_dict(), save_path+'opt.pdopt')\r\n",
    "            print('Save to', save_path, 'with rmsd =', rmsd)\r\n",
    "            best_rmsd = rmsd\r\n",
    "            best_epoch = epoch+1\r\n",
    "        print('epoch_%d, %04.0fs: rmsd of valid is %g, best rmsd is %g at epoch_%d'%(epoch+1, time.time()-start_time, rmsd, best_rmsd, best_epoch))\r\n"
   ]
  },
  {
   "cell_type": "code",
   "execution_count": null,
   "metadata": {
    "collapsed": false
   },
   "outputs": [
    {
     "name": "stdout",
     "output_type": "stream",
     "text": [
      "----------------------------------------------------------------------------------------------------------------------------------------------------------------------------------------------------------------------------------\n",
      "   Layer (type)                                              Input Shape                                                                                   Output Shape                                              Param #    \n",
      "==================================================================================================================================================================================================================================\n",
      "     Conv1D-1                                              [[16, 22, 768]]                                                                                [16, 132, 768]                                              3,036     \n",
      "   Hardswish-1                                            [[16, 132, 768]]                                                                                [16, 132, 768]                                                0       \n",
      "     Conv1D-2                                             [[16, 132, 768]]                                                                                [16, 132, 768]                                              1,056     \n",
      "   Hardswish-2                                            [[16, 132, 768]]                                                                                [16, 132, 768]                                                0       \n",
      "     Conv1D-3                                             [[16, 132, 768]]                                                                                 [16, 64, 768]                                              8,448     \n",
      "     Conv1D-4                                              [[16, 22, 768]]                                                                                 [16, 64, 768]                                              1,408     \n",
      "  BatchNorm1D-1                                            [[16, 64, 768]]                                                                                 [16, 64, 768]                                               256      \n",
      "     MBConv-1                                              [[16, 22, 768]]                                                                                 [16, 64, 768]                                                0       \n",
      "   MaxPool1D-1                                             [[16, 64, 768]]                                                                                 [16, 64, 384]                                                0       \n",
      "     Conv1D-5                                              [[16, 64, 384]]                                                                                [16, 384, 384]                                             24,960     \n",
      "   Hardswish-3                                            [[16, 384, 384]]                                                                                [16, 384, 384]                                                0       \n",
      "     Conv1D-6                                             [[16, 384, 384]]                                                                                [16, 384, 384]                                              2,304     \n",
      "   Hardswish-4                                            [[16, 384, 384]]                                                                                [16, 384, 384]                                                0       \n",
      "     Conv1D-7                                             [[16, 384, 384]]                                                                                [16, 128, 384]                                             49,152     \n",
      "     Conv1D-8                                              [[16, 64, 384]]                                                                                [16, 128, 384]                                              8,192     \n",
      "  BatchNorm1D-2                                           [[16, 128, 384]]                                                                                [16, 128, 384]                                               512      \n",
      "     MBConv-2                                              [[16, 64, 384]]                                                                                [16, 128, 384]                                                0       \n",
      "     Conv1D-9                                             [[16, 128, 384]]                                                                                [16, 768, 384]                                             99,072     \n",
      "   Hardswish-5                                            [[16, 768, 384]]                                                                                [16, 768, 384]                                                0       \n",
      "    Conv1D-10                                             [[16, 768, 384]]                                                                                [16, 768, 384]                                              4,608     \n",
      "   Hardswish-6                                            [[16, 768, 384]]                                                                                [16, 768, 384]                                                0       \n",
      "    Conv1D-11                                             [[16, 768, 384]]                                                                                [16, 128, 384]                                             98,304     \n",
      "  BatchNorm1D-3                                           [[16, 128, 384]]                                                                                [16, 128, 384]                                               512      \n",
      "     MBConv-3                                             [[16, 128, 384]]                                                                                [16, 128, 384]                                                0       \n",
      "   MaxPool1D-2                                            [[16, 128, 384]]                                                                                [16, 128, 192]                                                0       \n",
      "    Conv1D-12                                             [[16, 128, 192]]                                                                                [16, 768, 192]                                             99,072     \n",
      "   Hardswish-7                                            [[16, 768, 192]]                                                                                [16, 768, 192]                                                0       \n",
      "    Conv1D-13                                             [[16, 768, 192]]                                                                                [16, 768, 192]                                              4,608     \n",
      "   Hardswish-8                                            [[16, 768, 192]]                                                                                [16, 768, 192]                                                0       \n",
      "    Conv1D-14                                             [[16, 768, 192]]                                                                                [16, 256, 192]                                             196,608    \n",
      "    Conv1D-15                                             [[16, 128, 192]]                                                                                [16, 256, 192]                                             32,768     \n",
      "  BatchNorm1D-4                                           [[16, 256, 192]]                                                                                [16, 256, 192]                                              1,024     \n",
      "     MBConv-4                                             [[16, 128, 192]]                                                                                [16, 256, 192]                                                0       \n",
      "    Conv1D-16                                             [[16, 256, 192]]                                                                                [16, 1536, 192]                                            394,752    \n",
      "   Hardswish-9                                            [[16, 1536, 192]]                                                                               [16, 1536, 192]                                               0       \n",
      "    Conv1D-17                                             [[16, 1536, 192]]                                                                               [16, 1536, 192]                                             9,216     \n",
      "   Hardswish-10                                           [[16, 1536, 192]]                                                                               [16, 1536, 192]                                               0       \n",
      "    Conv1D-18                                             [[16, 1536, 192]]                                                                               [16, 256, 192]                                             393,216    \n",
      "  BatchNorm1D-5                                           [[16, 256, 192]]                                                                                [16, 256, 192]                                              1,024     \n",
      "     MBConv-5                                             [[16, 256, 192]]                                                                                [16, 256, 192]                                                0       \n",
      "   MaxPool1D-3                                            [[16, 256, 192]]                                                                                 [16, 256, 96]                                                0       \n",
      "    Conv1D-19                                              [[16, 256, 96]]                                                                                [16, 1536, 96]                                             394,752    \n",
      "   Hardswish-11                                           [[16, 1536, 96]]                                                                                [16, 1536, 96]                                                0       \n",
      "    Conv1D-20                                             [[16, 1536, 96]]                                                                                [16, 1536, 96]                                              9,216     \n",
      "   Hardswish-12                                           [[16, 1536, 96]]                                                                                [16, 1536, 96]                                                0       \n",
      "    Conv1D-21                                             [[16, 1536, 96]]                                                                                 [16, 512, 96]                                             786,432    \n",
      "    Conv1D-22                                              [[16, 256, 96]]                                                                                 [16, 512, 96]                                             131,072    \n",
      "  BatchNorm1D-6                                            [[16, 512, 96]]                                                                                 [16, 512, 96]                                              2,048     \n",
      "     MBConv-6                                              [[16, 256, 96]]                                                                                 [16, 512, 96]                                                0       \n",
      "    Conv1D-23                                              [[16, 512, 96]]                                                                                [16, 3072, 96]                                            1,575,936   \n",
      "   Hardswish-13                                           [[16, 3072, 96]]                                                                                [16, 3072, 96]                                                0       \n",
      "    Conv1D-24                                             [[16, 3072, 96]]                                                                                [16, 3072, 96]                                             18,432     \n",
      "   Hardswish-14                                           [[16, 3072, 96]]                                                                                [16, 3072, 96]                                                0       \n",
      "    Conv1D-25                                             [[16, 3072, 96]]                                                                                 [16, 512, 96]                                            1,572,864   \n",
      "  BatchNorm1D-7                                            [[16, 512, 96]]                                                                                 [16, 512, 96]                                              2,048     \n",
      "     MBConv-7                                              [[16, 512, 96]]                                                                                 [16, 512, 96]                                                0       \n",
      "   MaxPool1D-4                                             [[16, 512, 96]]                                                                                 [16, 512, 48]                                                0       \n",
      "    Conv1D-26                                              [[16, 512, 48]]                                                                                [16, 3072, 48]                                            1,575,936   \n",
      "   Hardswish-15                                           [[16, 3072, 48]]                                                                                [16, 3072, 48]                                                0       \n",
      "    Conv1D-27                                             [[16, 3072, 48]]                                                                                [16, 3072, 48]                                             18,432     \n",
      "   Hardswish-16                                           [[16, 3072, 48]]                                                                                [16, 3072, 48]                                                0       \n",
      "    Conv1D-28                                             [[16, 3072, 48]]                                                                                 [16, 768, 48]                                            2,359,296   \n",
      "    Conv1D-29                                              [[16, 512, 48]]                                                                                 [16, 768, 48]                                             393,216    \n",
      "  BatchNorm1D-8                                            [[16, 768, 48]]                                                                                 [16, 768, 48]                                              3,072     \n",
      "     MBConv-8                                              [[16, 512, 48]]                                                                                 [16, 768, 48]                                                0       \n",
      "    Conv1D-30                                              [[16, 768, 48]]                                                                                [16, 4608, 48]                                            3,543,552   \n",
      "   Hardswish-17                                           [[16, 4608, 48]]                                                                                [16, 4608, 48]                                                0       \n",
      "    Conv1D-31                                             [[16, 4608, 48]]                                                                                [16, 4608, 48]                                             27,648     \n",
      "   Hardswish-18                                           [[16, 4608, 48]]                                                                                [16, 4608, 48]                                                0       \n",
      "    Conv1D-32                                             [[16, 4608, 48]]                                                                                 [16, 768, 48]                                            3,538,944   \n",
      "  BatchNorm1D-9                                            [[16, 768, 48]]                                                                                 [16, 768, 48]                                              3,072     \n",
      "     MBConv-9                                              [[16, 768, 48]]                                                                                 [16, 768, 48]                                                0       \n",
      "   MaxPool1D-5                                             [[16, 768, 48]]                                                                                 [16, 768, 24]                                                0       \n",
      "    Conv1D-33                                              [[16, 768, 24]]                                                                                [16, 4608, 24]                                            3,543,552   \n",
      "   Hardswish-19                                           [[16, 4608, 24]]                                                                                [16, 4608, 24]                                                0       \n",
      "    Conv1D-34                                             [[16, 4608, 24]]                                                                                [16, 4608, 24]                                             27,648     \n",
      "   Hardswish-20                                           [[16, 4608, 24]]                                                                                [16, 4608, 24]                                                0       \n",
      "    Conv1D-35                                             [[16, 4608, 24]]                                                                                [16, 1024, 24]                                            4,718,592   \n",
      "    Conv1D-36                                              [[16, 768, 24]]                                                                                [16, 1024, 24]                                             786,432    \n",
      "  BatchNorm1D-10                                          [[16, 1024, 24]]                                                                                [16, 1024, 24]                                              4,096     \n",
      "    MBConv-10                                              [[16, 768, 24]]                                                                                [16, 1024, 24]                                                0       \n",
      "    Conv1D-37                                             [[16, 1024, 24]]                                                                                [16, 6144, 24]                                            6,297,600   \n",
      "   Hardswish-21                                           [[16, 6144, 24]]                                                                                [16, 6144, 24]                                                0       \n",
      "    Conv1D-38                                             [[16, 6144, 24]]                                                                                [16, 6144, 24]                                             36,864     \n",
      "   Hardswish-22                                           [[16, 6144, 24]]                                                                                [16, 6144, 24]                                                0       \n",
      "    Conv1D-39                                             [[16, 6144, 24]]                                                                                [16, 1024, 24]                                            6,291,456   \n",
      "  BatchNorm1D-11                                          [[16, 1024, 24]]                                                                                [16, 1024, 24]                                              4,096     \n",
      "    MBConv-11                                             [[16, 1024, 24]]                                                                                [16, 1024, 24]                                                0       \n",
      "    Backbone-1                                             [[16, 22, 768]]                                         [[16, 64, 768], [16, 128, 384], [16, 256, 192], [16, 512, 96], [16, 768, 48], [16, 1024, 24]]        0       \n",
      "    Conv1D-40                                              [[16, 64, 768]]                                                                                [16, 128, 768]                                             41,088     \n",
      "   Hardswish-23                                           [[16, 128, 768]]                                                                                [16, 128, 768]                                                0       \n",
      "    Conv1D-41                                             [[16, 128, 384]]                                                                                [16, 128, 384]                                             82,048     \n",
      "   Hardswish-24                                           [[16, 128, 384]]                                                                                [16, 128, 384]                                                0       \n",
      "    Conv1D-42                                             [[16, 256, 192]]                                                                                [16, 128, 192]                                             163,968    \n",
      "   Hardswish-25                                           [[16, 128, 192]]                                                                                [16, 128, 192]                                                0       \n",
      "    Conv1D-43                                              [[16, 512, 96]]                                                                                 [16, 128, 96]                                             327,808    \n",
      "   Hardswish-26                                            [[16, 128, 96]]                                                                                 [16, 128, 96]                                                0       \n",
      "    Conv1D-44                                              [[16, 768, 48]]                                                                                 [16, 128, 48]                                             491,648    \n",
      "   Hardswish-27                                            [[16, 128, 48]]                                                                                 [16, 128, 48]                                                0       \n",
      "    Conv1D-45                                             [[16, 1024, 24]]                                                                                 [16, 128, 24]                                             655,488    \n",
      "   Hardswish-28                                            [[16, 128, 24]]                                                                                 [16, 128, 24]                                                0       \n",
      "Conv1DTranspose-5                                          [[16, 128, 24]]                                                                                 [16, 128, 48]                                             65,664     \n",
      "    Conv1D-50                                              [[16, 128, 48]]                                                                                 [16, 128, 48]                                             82,048     \n",
      "   Hardswish-33                                            [[16, 128, 48]]                                                                                 [16, 128, 48]                                                0       \n",
      "Conv1DTranspose-4                                          [[16, 128, 48]]                                                                                 [16, 128, 96]                                             65,664     \n",
      "    Conv1D-49                                              [[16, 128, 96]]                                                                                 [16, 128, 96]                                             82,048     \n",
      "   Hardswish-32                                            [[16, 128, 96]]                                                                                 [16, 128, 96]                                                0       \n",
      "Conv1DTranspose-3                                          [[16, 128, 96]]                                                                                [16, 128, 192]                                             65,664     \n",
      "    Conv1D-48                                             [[16, 128, 192]]                                                                                [16, 128, 192]                                             82,048     \n",
      "   Hardswish-31                                           [[16, 128, 192]]                                                                                [16, 128, 192]                                                0       \n",
      "Conv1DTranspose-2                                         [[16, 128, 192]]                                                                                [16, 128, 384]                                             65,664     \n",
      "    Conv1D-47                                             [[16, 128, 384]]                                                                                [16, 128, 384]                                             82,048     \n",
      "   Hardswish-30                                           [[16, 128, 384]]                                                                                [16, 128, 384]                                                0       \n",
      "Conv1DTranspose-1                                         [[16, 128, 384]]                                                                                [16, 128, 768]                                             65,664     \n",
      "    Conv1D-46                                             [[16, 128, 768]]                                                                                [16, 128, 768]                                             82,048     \n",
      "   Hardswish-29                                           [[16, 128, 768]]                                                                                [16, 128, 768]                                                0       \n",
      "    Conv1D-51                                             [[16, 128, 768]]                                                                                [16, 128, 384]                                             82,048     \n",
      "    Conv1D-56                                             [[16, 128, 384]]                                                                                [16, 128, 384]                                             82,048     \n",
      "   Hardswish-34                                           [[16, 128, 384]]                                                                                [16, 128, 384]                                                0       \n",
      "    Conv1D-52                                             [[16, 128, 384]]                                                                                [16, 128, 192]                                             82,048     \n",
      "    Conv1D-57                                             [[16, 128, 192]]                                                                                [16, 128, 192]                                             82,048     \n",
      "   Hardswish-35                                           [[16, 128, 192]]                                                                                [16, 128, 192]                                                0       \n",
      "    Conv1D-53                                             [[16, 128, 192]]                                                                                 [16, 128, 96]                                             82,048     \n",
      "    Conv1D-58                                              [[16, 128, 96]]                                                                                 [16, 128, 96]                                             82,048     \n",
      "   Hardswish-36                                            [[16, 128, 96]]                                                                                 [16, 128, 96]                                                0       \n",
      "    Conv1D-54                                              [[16, 128, 96]]                                                                                 [16, 128, 48]                                             82,048     \n",
      "    Conv1D-59                                              [[16, 128, 48]]                                                                                 [16, 128, 48]                                             82,048     \n",
      "   Hardswish-37                                            [[16, 128, 48]]                                                                                 [16, 128, 48]                                                0       \n",
      "    Conv1D-55                                              [[16, 128, 48]]                                                                                 [16, 128, 24]                                             82,048     \n",
      "    Conv1D-60                                              [[16, 128, 24]]                                                                                 [16, 128, 24]                                             82,048     \n",
      "   Hardswish-38                                            [[16, 128, 24]]                                                                                 [16, 128, 24]                                                0       \n",
      "  BifpnModule-1    [[[16, 64, 768], [16, 128, 384], [16, 256, 192], [16, 512, 96], [16, 768, 48], [16, 1024, 24]]] [[16, 128, 768], [16, 128, 384], [16, 128, 192], [16, 128, 96], [16, 128, 48], [16, 128, 24]]        0       \n",
      "    Conv1D-61                                             [[16, 128, 768]]                                                                                [16, 128, 768]                                             82,048     \n",
      "   Hardswish-39                                           [[16, 128, 768]]                                                                                [16, 128, 768]                                                0       \n",
      "    Conv1D-62                                             [[16, 128, 384]]                                                                                [16, 128, 384]                                             82,048     \n",
      "   Hardswish-40                                           [[16, 128, 384]]                                                                                [16, 128, 384]                                                0       \n",
      "    Conv1D-63                                             [[16, 128, 192]]                                                                                [16, 128, 192]                                             82,048     \n",
      "   Hardswish-41                                           [[16, 128, 192]]                                                                                [16, 128, 192]                                                0       \n",
      "    Conv1D-64                                              [[16, 128, 96]]                                                                                 [16, 128, 96]                                             82,048     \n",
      "   Hardswish-42                                            [[16, 128, 96]]                                                                                 [16, 128, 96]                                                0       \n",
      "    Conv1D-65                                              [[16, 128, 48]]                                                                                 [16, 128, 48]                                             82,048     \n",
      "   Hardswish-43                                            [[16, 128, 48]]                                                                                 [16, 128, 48]                                                0       \n",
      "    Conv1D-66                                              [[16, 128, 24]]                                                                                 [16, 128, 24]                                             82,048     \n",
      "   Hardswish-44                                            [[16, 128, 24]]                                                                                 [16, 128, 24]                                                0       \n",
      "Conv1DTranspose-10                                         [[16, 128, 24]]                                                                                 [16, 128, 48]                                             65,664     \n",
      "    Conv1D-71                                              [[16, 128, 48]]                                                                                 [16, 128, 48]                                             82,048     \n",
      "   Hardswish-49                                            [[16, 128, 48]]                                                                                 [16, 128, 48]                                                0       \n",
      "Conv1DTranspose-9                                          [[16, 128, 48]]                                                                                 [16, 128, 96]                                             65,664     \n",
      "    Conv1D-70                                              [[16, 128, 96]]                                                                                 [16, 128, 96]                                             82,048     \n",
      "   Hardswish-48                                            [[16, 128, 96]]                                                                                 [16, 128, 96]                                                0       \n",
      "Conv1DTranspose-8                                          [[16, 128, 96]]                                                                                [16, 128, 192]                                             65,664     \n",
      "    Conv1D-69                                             [[16, 128, 192]]                                                                                [16, 128, 192]                                             82,048     \n",
      "   Hardswish-47                                           [[16, 128, 192]]                                                                                [16, 128, 192]                                                0       \n",
      "Conv1DTranspose-7                                         [[16, 128, 192]]                                                                                [16, 128, 384]                                             65,664     \n",
      "    Conv1D-68                                             [[16, 128, 384]]                                                                                [16, 128, 384]                                             82,048     \n",
      "   Hardswish-46                                           [[16, 128, 384]]                                                                                [16, 128, 384]                                                0       \n",
      "Conv1DTranspose-6                                         [[16, 128, 384]]                                                                                [16, 128, 768]                                             65,664     \n",
      "    Conv1D-67                                             [[16, 128, 768]]                                                                                [16, 128, 768]                                             82,048     \n",
      "   Hardswish-45                                           [[16, 128, 768]]                                                                                [16, 128, 768]                                                0       \n",
      "    Conv1D-72                                             [[16, 128, 768]]                                                                                [16, 128, 384]                                             82,048     \n",
      "    Conv1D-77                                             [[16, 128, 384]]                                                                                [16, 128, 384]                                             82,048     \n",
      "   Hardswish-50                                           [[16, 128, 384]]                                                                                [16, 128, 384]                                                0       \n",
      "    Conv1D-73                                             [[16, 128, 384]]                                                                                [16, 128, 192]                                             82,048     \n",
      "    Conv1D-78                                             [[16, 128, 192]]                                                                                [16, 128, 192]                                             82,048     \n",
      "   Hardswish-51                                           [[16, 128, 192]]                                                                                [16, 128, 192]                                                0       \n",
      "    Conv1D-74                                             [[16, 128, 192]]                                                                                 [16, 128, 96]                                             82,048     \n",
      "    Conv1D-79                                              [[16, 128, 96]]                                                                                 [16, 128, 96]                                             82,048     \n",
      "   Hardswish-52                                            [[16, 128, 96]]                                                                                 [16, 128, 96]                                                0       \n",
      "    Conv1D-75                                              [[16, 128, 96]]                                                                                 [16, 128, 48]                                             82,048     \n",
      "    Conv1D-80                                              [[16, 128, 48]]                                                                                 [16, 128, 48]                                             82,048     \n",
      "   Hardswish-53                                            [[16, 128, 48]]                                                                                 [16, 128, 48]                                                0       \n",
      "    Conv1D-76                                              [[16, 128, 48]]                                                                                 [16, 128, 24]                                             82,048     \n",
      "    Conv1D-81                                              [[16, 128, 24]]                                                                                 [16, 128, 24]                                             82,048     \n",
      "   Hardswish-54                                            [[16, 128, 24]]                                                                                 [16, 128, 24]                                                0       \n",
      "  BifpnModule-2    [[[16, 128, 768], [16, 128, 384], [16, 128, 192], [16, 128, 96], [16, 128, 48], [16, 128, 24]]] [[16, 128, 768], [16, 128, 384], [16, 128, 192], [16, 128, 96], [16, 128, 48], [16, 128, 24]]        0       \n",
      "    Conv1D-82                                             [[16, 128, 768]]                                                                                [16, 128, 768]                                             82,048     \n",
      "   Hardswish-55                                           [[16, 128, 768]]                                                                                [16, 128, 768]                                                0       \n",
      "    Conv1D-83                                             [[16, 128, 384]]                                                                                [16, 128, 384]                                             82,048     \n",
      "   Hardswish-56                                           [[16, 128, 384]]                                                                                [16, 128, 384]                                                0       \n",
      "    Conv1D-84                                             [[16, 128, 192]]                                                                                [16, 128, 192]                                             82,048     \n",
      "   Hardswish-57                                           [[16, 128, 192]]                                                                                [16, 128, 192]                                                0       \n",
      "    Conv1D-85                                              [[16, 128, 96]]                                                                                 [16, 128, 96]                                             82,048     \n",
      "   Hardswish-58                                            [[16, 128, 96]]                                                                                 [16, 128, 96]                                                0       \n",
      "    Conv1D-86                                              [[16, 128, 48]]                                                                                 [16, 128, 48]                                             82,048     \n",
      "   Hardswish-59                                            [[16, 128, 48]]                                                                                 [16, 128, 48]                                                0       \n",
      "    Conv1D-87                                              [[16, 128, 24]]                                                                                 [16, 128, 24]                                             82,048     \n",
      "   Hardswish-60                                            [[16, 128, 24]]                                                                                 [16, 128, 24]                                                0       \n",
      "Conv1DTranspose-15                                         [[16, 128, 24]]                                                                                 [16, 128, 48]                                             65,664     \n",
      "    Conv1D-92                                              [[16, 128, 48]]                                                                                 [16, 128, 48]                                             82,048     \n",
      "   Hardswish-65                                            [[16, 128, 48]]                                                                                 [16, 128, 48]                                                0       \n",
      "Conv1DTranspose-14                                         [[16, 128, 48]]                                                                                 [16, 128, 96]                                             65,664     \n",
      "    Conv1D-91                                              [[16, 128, 96]]                                                                                 [16, 128, 96]                                             82,048     \n",
      "   Hardswish-64                                            [[16, 128, 96]]                                                                                 [16, 128, 96]                                                0       \n",
      "Conv1DTranspose-13                                         [[16, 128, 96]]                                                                                [16, 128, 192]                                             65,664     \n",
      "    Conv1D-90                                             [[16, 128, 192]]                                                                                [16, 128, 192]                                             82,048     \n",
      "   Hardswish-63                                           [[16, 128, 192]]                                                                                [16, 128, 192]                                                0       \n",
      "Conv1DTranspose-12                                        [[16, 128, 192]]                                                                                [16, 128, 384]                                             65,664     \n",
      "    Conv1D-89                                             [[16, 128, 384]]                                                                                [16, 128, 384]                                             82,048     \n",
      "   Hardswish-62                                           [[16, 128, 384]]                                                                                [16, 128, 384]                                                0       \n",
      "Conv1DTranspose-11                                        [[16, 128, 384]]                                                                                [16, 128, 768]                                             65,664     \n",
      "    Conv1D-88                                             [[16, 128, 768]]                                                                                [16, 128, 768]                                             82,048     \n",
      "   Hardswish-61                                           [[16, 128, 768]]                                                                                [16, 128, 768]                                                0       \n",
      "    Conv1D-93                                             [[16, 128, 768]]                                                                                [16, 128, 384]                                             82,048     \n",
      "    Conv1D-98                                             [[16, 128, 384]]                                                                                [16, 128, 384]                                             82,048     \n",
      "   Hardswish-66                                           [[16, 128, 384]]                                                                                [16, 128, 384]                                                0       \n",
      "    Conv1D-94                                             [[16, 128, 384]]                                                                                [16, 128, 192]                                             82,048     \n",
      "    Conv1D-99                                             [[16, 128, 192]]                                                                                [16, 128, 192]                                             82,048     \n",
      "   Hardswish-67                                           [[16, 128, 192]]                                                                                [16, 128, 192]                                                0       \n",
      "    Conv1D-95                                             [[16, 128, 192]]                                                                                 [16, 128, 96]                                             82,048     \n",
      "    Conv1D-100                                             [[16, 128, 96]]                                                                                 [16, 128, 96]                                             82,048     \n",
      "   Hardswish-68                                            [[16, 128, 96]]                                                                                 [16, 128, 96]                                                0       \n",
      "    Conv1D-96                                              [[16, 128, 96]]                                                                                 [16, 128, 48]                                             82,048     \n",
      "    Conv1D-101                                             [[16, 128, 48]]                                                                                 [16, 128, 48]                                             82,048     \n",
      "   Hardswish-69                                            [[16, 128, 48]]                                                                                 [16, 128, 48]                                                0       \n",
      "    Conv1D-97                                              [[16, 128, 48]]                                                                                 [16, 128, 24]                                             82,048     \n",
      "    Conv1D-102                                             [[16, 128, 24]]                                                                                 [16, 128, 24]                                             82,048     \n",
      "   Hardswish-70                                            [[16, 128, 24]]                                                                                 [16, 128, 24]                                                0       \n",
      "  BifpnModule-3    [[[16, 128, 768], [16, 128, 384], [16, 128, 192], [16, 128, 96], [16, 128, 48], [16, 128, 24]]] [[16, 128, 768], [16, 128, 384], [16, 128, 192], [16, 128, 96], [16, 128, 48], [16, 128, 24]]        0       \n",
      "    Conv1D-103                                            [[16, 128, 768]]                                                                                 [16, 64, 768]                                             41,024     \n",
      "   Hardswish-71                                            [[16, 64, 768]]                                                                                 [16, 64, 768]                                                0       \n",
      "    Conv1D-104                                            [[16, 128, 384]]                                                                                 [16, 64, 384]                                             41,024     \n",
      "   Hardswish-72                                            [[16, 64, 384]]                                                                                 [16, 64, 384]                                                0       \n",
      "    Conv1D-105                                            [[16, 128, 192]]                                                                                 [16, 64, 192]                                             41,024     \n",
      "   Hardswish-73                                            [[16, 64, 192]]                                                                                 [16, 64, 192]                                                0       \n",
      "    Conv1D-106                                             [[16, 128, 96]]                                                                                 [16, 64, 96]                                              41,024     \n",
      "   Hardswish-74                                            [[16, 64, 96]]                                                                                  [16, 64, 96]                                                 0       \n",
      "    Conv1D-107                                             [[16, 128, 48]]                                                                                 [16, 64, 48]                                              41,024     \n",
      "   Hardswish-75                                            [[16, 64, 48]]                                                                                  [16, 64, 48]                                                 0       \n",
      "    Conv1D-108                                             [[16, 128, 24]]                                                                                 [16, 64, 24]                                              41,024     \n",
      "   Hardswish-76                                            [[16, 64, 24]]                                                                                  [16, 64, 24]                                                 0       \n",
      "Conv1DTranspose-20                                         [[16, 64, 24]]                                                                                  [16, 64, 48]                                              16,448     \n",
      "    Conv1D-113                                             [[16, 64, 48]]                                                                                  [16, 64, 48]                                              20,544     \n",
      "   Hardswish-81                                            [[16, 64, 48]]                                                                                  [16, 64, 48]                                                 0       \n",
      "Conv1DTranspose-19                                         [[16, 64, 48]]                                                                                  [16, 64, 96]                                              16,448     \n",
      "    Conv1D-112                                             [[16, 64, 96]]                                                                                  [16, 64, 96]                                              20,544     \n",
      "   Hardswish-80                                            [[16, 64, 96]]                                                                                  [16, 64, 96]                                                 0       \n",
      "Conv1DTranspose-18                                         [[16, 64, 96]]                                                                                  [16, 64, 192]                                             16,448     \n",
      "    Conv1D-111                                             [[16, 64, 192]]                                                                                 [16, 64, 192]                                             20,544     \n",
      "   Hardswish-79                                            [[16, 64, 192]]                                                                                 [16, 64, 192]                                                0       \n",
      "Conv1DTranspose-17                                         [[16, 64, 192]]                                                                                 [16, 64, 384]                                             16,448     \n",
      "    Conv1D-110                                             [[16, 64, 384]]                                                                                 [16, 64, 384]                                             20,544     \n",
      "   Hardswish-78                                            [[16, 64, 384]]                                                                                 [16, 64, 384]                                                0       \n",
      "Conv1DTranspose-16                                         [[16, 64, 384]]                                                                                 [16, 64, 768]                                             16,448     \n",
      "    Conv1D-109                                             [[16, 64, 768]]                                                                                 [16, 64, 768]                                             20,544     \n",
      "   Hardswish-77                                            [[16, 64, 768]]                                                                                 [16, 64, 768]                                                0       \n",
      "    Conv1D-114                                             [[16, 64, 768]]                                                                                 [16, 64, 384]                                             20,544     \n",
      "    Conv1D-119                                             [[16, 64, 384]]                                                                                 [16, 64, 384]                                             20,544     \n",
      "   Hardswish-82                                            [[16, 64, 384]]                                                                                 [16, 64, 384]                                                0       \n",
      "    Conv1D-115                                             [[16, 64, 384]]                                                                                 [16, 64, 192]                                             20,544     \n",
      "    Conv1D-120                                             [[16, 64, 192]]                                                                                 [16, 64, 192]                                             20,544     \n",
      "   Hardswish-83                                            [[16, 64, 192]]                                                                                 [16, 64, 192]                                                0       \n",
      "    Conv1D-116                                             [[16, 64, 192]]                                                                                 [16, 64, 96]                                              20,544     \n",
      "    Conv1D-121                                             [[16, 64, 96]]                                                                                  [16, 64, 96]                                              20,544     \n",
      "   Hardswish-84                                            [[16, 64, 96]]                                                                                  [16, 64, 96]                                                 0       \n",
      "    Conv1D-117                                             [[16, 64, 96]]                                                                                  [16, 64, 48]                                              20,544     \n",
      "    Conv1D-122                                             [[16, 64, 48]]                                                                                  [16, 64, 48]                                              20,544     \n",
      "   Hardswish-85                                            [[16, 64, 48]]                                                                                  [16, 64, 48]                                                 0       \n",
      "    Conv1D-118                                             [[16, 64, 48]]                                                                                  [16, 64, 24]                                              20,544     \n",
      "    Conv1D-123                                             [[16, 64, 24]]                                                                                  [16, 64, 24]                                              20,544     \n",
      "   Hardswish-86                                            [[16, 64, 24]]                                                                                  [16, 64, 24]                                                 0       \n",
      "  BifpnModule-4    [[[16, 128, 768], [16, 128, 384], [16, 128, 192], [16, 128, 96], [16, 128, 48], [16, 128, 24]]]    [[16, 64, 768], [16, 64, 384], [16, 64, 192], [16, 64, 96], [16, 64, 48], [16, 64, 24]]           0       \n",
      "    Conv1D-124                                             [[16, 64, 768]]                                                                                 [16, 64, 768]                                             20,544     \n",
      "   Hardswish-87                                            [[16, 64, 768]]                                                                                 [16, 64, 768]                                                0       \n",
      "    Conv1D-125                                             [[16, 64, 384]]                                                                                 [16, 64, 384]                                             20,544     \n",
      "   Hardswish-88                                            [[16, 64, 384]]                                                                                 [16, 64, 384]                                                0       \n",
      "    Conv1D-126                                             [[16, 64, 192]]                                                                                 [16, 64, 192]                                             20,544     \n",
      "   Hardswish-89                                            [[16, 64, 192]]                                                                                 [16, 64, 192]                                                0       \n",
      "    Conv1D-127                                             [[16, 64, 96]]                                                                                  [16, 64, 96]                                              20,544     \n",
      "   Hardswish-90                                            [[16, 64, 96]]                                                                                  [16, 64, 96]                                                 0       \n",
      "    Conv1D-128                                             [[16, 64, 48]]                                                                                  [16, 64, 48]                                              20,544     \n",
      "   Hardswish-91                                            [[16, 64, 48]]                                                                                  [16, 64, 48]                                                 0       \n",
      "    Conv1D-129                                             [[16, 64, 24]]                                                                                  [16, 64, 24]                                              20,544     \n",
      "   Hardswish-92                                            [[16, 64, 24]]                                                                                  [16, 64, 24]                                                 0       \n",
      "Conv1DTranspose-25                                         [[16, 64, 24]]                                                                                  [16, 64, 48]                                              16,448     \n",
      "Conv1DTranspose-24                                         [[16, 64, 48]]                                                                                  [16, 64, 96]                                              16,448     \n",
      "Conv1DTranspose-23                                         [[16, 64, 96]]                                                                                  [16, 64, 192]                                             16,448     \n",
      "Conv1DTranspose-22                                         [[16, 64, 192]]                                                                                 [16, 64, 384]                                             16,448     \n",
      "Conv1DTranspose-21                                         [[16, 64, 384]]                                                                                 [16, 64, 768]                                             16,448     \n",
      "    UpStage-1         [[[16, 64, 768], [16, 64, 384], [16, 64, 192], [16, 64, 96], [16, 64, 48], [16, 64, 24]]]                                            [16, 64, 768]                                                0       \n",
      "    Conv1D-130                                             [[16, 64, 768]]                                                                                 [16, 1, 768]                                                65       \n",
      "==================================================================================================================================================================================================================================\n",
      "Total params: 47,366,269\n",
      "Trainable params: 47,344,509\n",
      "Non-trainable params: 21,760\n",
      "----------------------------------------------------------------------------------------------------------------------------------------------------------------------------------------------------------------------------------\n",
      "Input size (MB): 1.03\n",
      "Forward/backward pass size (MB): 1793.16\n",
      "Params size (MB): 180.69\n",
      "Estimated Total Size (MB): 1974.88\n",
      "----------------------------------------------------------------------------------------------------------------------------------------------------------------------------------------------------------------------------------\n",
      "\n"
     ]
    },
    {
     "data": {
      "text/plain": [
       "{'total_params': 47366269, 'trainable_params': 47344509}"
      ]
     },
     "execution_count": null,
     "metadata": {},
     "output_type": "execute_result"
    }
   ],
   "source": [
    "## 用eval函数生成指定名称的模型，并输出摘要\n",
    "model = eval(MODEL_NAME)()\n",
    "paddle.summary(model, input_size=(BATCH_SIZE, INPUT_DEPTH, TRAIN_LENGTH))"
   ]
  },
  {
   "cell_type": "code",
   "execution_count": null,
   "metadata": {
    "collapsed": false
   },
   "outputs": [
    {
     "name": "stdout",
     "output_type": "stream",
     "text": [
      "Load best_model\n"
     ]
    }
   ],
   "source": [
    "# 训练完成后，加载最优（或指定）的模型参数。\r\n",
    "if TRAIN:\r\n",
    "    train(model)\r\n",
    "params = paddle.load('Models/%s/model.pdparams'%USE_MODEL)\r\n",
    "print('Load', USE_MODEL)\r\n",
    "model.set_state_dict(params)"
   ]
  },
  {
   "cell_type": "markdown",
   "metadata": {
    "collapsed": false
   },
   "source": [
    "### Predict"
   ]
  },
  {
   "cell_type": "code",
   "execution_count": null,
   "metadata": {
    "collapsed": false
   },
   "outputs": [
    {
     "data": {
      "text/plain": [
       "(array([80309., 64369., 35717., 24321., 21676., 21023., 22965., 30855.,\n",
       "        36531., 28593.]),\n",
       " array([0. , 0.1, 0.2, 0.3, 0.4, 0.5, 0.6, 0.7, 0.8, 0.9, 1. ],\n",
       "       dtype=float32),\n",
       " <a list of 10 Patch objects>)"
      ]
     },
     "execution_count": null,
     "metadata": {},
     "output_type": "execute_result"
    },
    {
     "data": {
      "image/png": "[encoded data removed]",
      "text/plain": [
       "<Figure size 432x288 with 1 Axes>"
      ]
     },
     "metadata": {},
     "output_type": "display_data"
    }
   ],
   "source": [
    "## 预测结果，并对结果统计信息进行可视化。压缩保存当前的模型、代码等。\r\n",
    "if not os.path.exists(OUTPUT_PATH):\r\n",
    "    os.makedirs(OUTPUT_PATH)\r\n",
    "else:\r\n",
    "    os.system('rm -rf %s/*.*'%OUTPUT_PATH)\r\n",
    "Yp = predict(model, test_dataset)\r\n",
    "if USE_POST_PROCESS:\r\n",
    "    Yp = [(1-np.cos(X*np.pi))/2 for X in Yp]\r\n",
    "for data_i, (data, Q) in enumerate(zip(test_dataset, Yp)):\r\n",
    "    save_path = os.path.join(OUTPUT_PATH, '%d.predict.txt'%(data_i+1))\r\n",
    "    with open(save_path, 'w') as f:\r\n",
    "        for p in Q:\r\n",
    "            f.write('%.8f\\n'%p)\r\n",
    "# if os.path.exists('predict.files.zip'):\r\n",
    "os.system('rm -rf *.zip')\r\n",
    "os.system('zip -qr predict.files.zip %s && rm -rf %s'%(OUTPUT_PATH, OUTPUT_PATH))\r\n",
    "os.system('cd Models && zip -qr %s.zip %s vdl_log && mv %s.zip ../'%(USE_MODEL, USE_MODEL, USE_MODEL))\r\n",
    "os.system('zip -qr source_all.zip *.py *.ipynb work/ %s.zip work/'%USE_MODEL)\r\n",
    "plt.hist(np.concatenate(Yp))"
   ]
  },
  {
   "cell_type": "code",
   "execution_count": null,
   "metadata": {
    "collapsed": false
   },
   "outputs": [],
   "source": []
  },
  {
   "cell_type": "code",
   "execution_count": null,
   "metadata": {
    "collapsed": false
   },
   "outputs": [],
   "source": []
  },
  {
   "cell_type": "code",
   "execution_count": null,
   "metadata": {
    "collapsed": false
   },
   "outputs": [],
   "source": []
  },
  {
   "cell_type": "code",
   "execution_count": null,
   "metadata": {
    "collapsed": false
   },
   "outputs": [],
   "source": []
  },
  {
   "cell_type": "code",
   "execution_count": null,
   "metadata": {
    "collapsed": false
   },
   "outputs": [],
   "source": []
  }
 ],
 "metadata": {
  "kernelspec": {
   "display_name": "PaddlePaddle 2.0.0b0 (Python 3.5)",
   "language": "python",
   "name": "py35-paddle1.2.0"
  },
  "language_info": {
   "codemirror_mode": {
    "name": "ipython",
    "version": 3
   },
   "file_extension": ".py",
   "mimetype": "text/x-python",
   "name": "python",
   "nbconvert_exporter": "python",
   "pygments_lexer": "ipython3",
   "version": "3.7.4"
  }
 },
 "nbformat": 4,
 "nbformat_minor": 1
}
